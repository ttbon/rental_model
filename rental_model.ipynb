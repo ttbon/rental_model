{
 "cells": [
  {
   "cell_type": "markdown",
   "id": "b963e996-a56e-48f8-a24b-03e7722adef3",
   "metadata": {},
   "source": [
    "# Setup"
   ]
  },
  {
   "cell_type": "markdown",
   "id": "a2e5b310-93f4-4ebe-bd71-3e13cc665d81",
   "metadata": {},
   "source": [
    "Follow the steps below in order to run this notebook succesfully:\n",
    "1. Ensure that the following files are in the folder as this rental_model file.\n",
    "    - requirements.txt  ::  specifies which packages and versions to download\n",
    "    - my_functions.py   ::  defines custome functions used in this notebook\n",
    "2. If this is your first time running the notebook, execute the cell in the **Download Packages** section.\n",
    "3. Run the cell below to import custom defined functions"
   ]
  },
  {
   "cell_type": "code",
   "execution_count": 1,
   "id": "b84204f3-6890-4ec7-ad7c-bad3db980e16",
   "metadata": {
    "tags": []
   },
   "outputs": [],
   "source": [
    "# this is will import all the custom functions\n",
    "from my_functions import *"
   ]
  },
  {
   "cell_type": "markdown",
   "id": "ef3d8554-cd4f-4815-a59e-9e7496f04a54",
   "metadata": {
    "tags": []
   },
   "source": [
    "# Sample Environment"
   ]
  },
  {
   "cell_type": "markdown",
   "id": "32f9e683-82f4-4a61-a218-d729bb6de878",
   "metadata": {},
   "source": [
    "## About the Macro Model\n",
    "We specify a distribution and sample for CPI, PPI, and an interest rate (IR) series.\n",
    "\n",
    "Here's how the distribution works:  \n",
    "\n",
    "What we model is the drift from one quarter to the next.  These are specified as a multivariate normal distribution.  The variables are correlated, and all combinations follow one single correlation coefficient.  The mean of each variable changes at each period according to how far away it is from it's long-run value.  This tendency can be tuned with the 'avg_yrs_to_revert' parameter.  \n",
    "\n",
    "A fraction of the time, we sample from a **tail distribution**. This is also a multivariate normal distribution with the same correlation as the **base distribution** (detailed above).  However, the variables in the tail distribution have a standard deviation that is a multiple above that of the base distribution (configurable).  The tail distribution does not have a tendency to revert to the long-run value, instead the mean is a fixed value (configurable).   "
   ]
  },
  {
   "cell_type": "markdown",
   "id": "ab9076f2-29c1-4379-80ae-571903be5669",
   "metadata": {},
   "source": [
    "## Parameters\n",
    "Provide the following parameters to define the Macro model:\n",
    "- random_seed: keep the same seed for reproducibility\n",
    "- start_val: value today (at t=0)\n",
    "- floor: series is not allowed to fall below this value\n",
    "- long_run: the long_run value it is expected to revert to\n",
    "- std: standard deviation of the absolute change from one quarter to the next\n",
    "- corr: correlation coefficient for all 3-choose-2 combinations. A value from 0 to 1.\n",
    "- n_periods: number of quarters for which to generate figures\n",
    "- avg_yrs_to_revert: average number of years after which figure should revert back to long-run expectation.  Controls strength of reversion.\n",
    "- p_tail: probability with which the absolute YoY change is drawn from the **tail distribution**. In a tail event all three rates change with this distribution.\n",
    "- tail_std_multiple: specifies what standard deviation to use in the **tail distribution** as a multiple of the standard deviation in the **base distribution**\n",
    "- tail_event_mean: mean of the **tail distribution**.  Note: this is because the **tail distribution** has no reversion.\n",
    "- n_samples: number of environments to sample"
   ]
  },
  {
   "cell_type": "code",
   "execution_count": 2,
   "id": "7688bda0-4a82-491e-bee1-0c9b37003b00",
   "metadata": {
    "tags": []
   },
   "outputs": [],
   "source": [
    "dist_params = {\n",
    "    'random_seed': 999\n",
    "    , 'cpi' : {\n",
    "        'start_val': .05\n",
    "        , 'floor': .01\n",
    "        , 'long_run': .03\n",
    "        , 'std': 0.005\n",
    "    }\n",
    "    , 'ppi' : {\n",
    "        'start_val': .05\n",
    "        , 'floor': .01\n",
    "        , 'long_run': .03\n",
    "        , 'std': 0.005\n",
    "    }\n",
    "    , 'ir' : {\n",
    "        'start_val': .05\n",
    "        , 'floor': .01\n",
    "        , 'long_run': .03\n",
    "        , 'std': 0.005\n",
    "    }\n",
    "    , 'corr': 0.8\n",
    "    , 'n_periods': 40\n",
    "    , 'avg_yrs_to_revert': 5\n",
    "    , 'p_tail': 0.02\n",
    "    , 'tail_std_multiple': 6\n",
    "    , 'tail_event_mean': .01\n",
    "    , 'n_samples': 150\n",
    "}\n"
   ]
  },
  {
   "cell_type": "code",
   "execution_count": 3,
   "id": "01985ad0-d342-4e73-91a9-a1a93d738958",
   "metadata": {
    "tags": []
   },
   "outputs": [],
   "source": [
    "# sample macro environments\n",
    "sampled_environments = mass_sample_environments(dist_params)"
   ]
  },
  {
   "cell_type": "markdown",
   "id": "215585d0-5944-4f9d-a0b2-596849135503",
   "metadata": {},
   "source": [
    "Let's visualize all the different scenarios we just sampled. Blue dots identify where a tail event takes place. Play with the drop down to look at a different variable.\n",
    "\n",
    "Tip: Use the alpha parameter to control the line darkness"
   ]
  },
  {
   "cell_type": "code",
   "execution_count": 4,
   "id": "5624dc6f-7304-4729-ad94-1b3e092565dd",
   "metadata": {
    "tags": []
   },
   "outputs": [
    {
     "data": {
      "application/vnd.jupyter.widget-view+json": {
       "model_id": "ba57b21cd4fe4f9ab85e2abd03e0396e",
       "version_major": 2,
       "version_minor": 0
      },
      "text/plain": [
       "interactive(children=(Dropdown(description='var', options=('cpi', 'ppi', 'ir'), value='cpi'), Output()), _dom_…"
      ]
     },
     "execution_count": 4,
     "metadata": {},
     "output_type": "execute_result"
    }
   ],
   "source": [
    "f = lambda var: plot_all_scenarios(sampled_environments, var, alpha=.1, ylims=(0,0.15))\n",
    "w = interactive(f, var = ['cpi', 'ppi', 'ir'])\n",
    "w"
   ]
  },
  {
   "cell_type": "markdown",
   "id": "bba226e1-7ff1-4059-bb4e-98982527205a",
   "metadata": {},
   "source": [
    "Though we plot for t=0 --> 40 (41 entries in total), the data point at t=0 is just to show that all series are starting at the same point. The only figures that get passed on to our calculations are those for t=1 --> 40 (40 entries total)."
   ]
  },
  {
   "cell_type": "markdown",
   "id": "0d29e0bc-b621-4fd3-ae9e-16ae7e145ff5",
   "metadata": {},
   "source": [
    "Let's visualize all three rates from one scenario at a time to see how they move together.  Move the slider to see another sampled environment."
   ]
  },
  {
   "cell_type": "code",
   "execution_count": 5,
   "id": "af527ba8-4f7e-4214-b910-f8c11e038cf6",
   "metadata": {
    "tags": []
   },
   "outputs": [
    {
     "data": {
      "application/vnd.jupyter.widget-view+json": {
       "model_id": "01d033333f7d4e3695f145794016f885",
       "version_major": 2,
       "version_minor": 0
      },
      "text/plain": [
       "interactive(children=(IntSlider(value=74, description='sample_id', max=149), Output()), _dom_classes=('widget-…"
      ]
     },
     "execution_count": 5,
     "metadata": {},
     "output_type": "execute_result"
    }
   ],
   "source": [
    "f = lambda sample_id: plot_single_environment(sampled_environments, sample_id, ylims=(-0.1, 0.15))\n",
    "w=interactive(f,sample_id=(0,sampled_environments['sample_id'].max(),1))\n",
    "w"
   ]
  },
  {
   "cell_type": "markdown",
   "id": "f4ae2df3-6dd4-4294-a9ab-fa275366c0d8",
   "metadata": {},
   "source": [
    "# Analyze"
   ]
  },
  {
   "cell_type": "markdown",
   "id": "dcfb6762-b9eb-41ea-a22b-6f24d66ef195",
   "metadata": {},
   "source": [
    "Specify the scenario that you want to run the model under.  \n",
    "\n",
    "Note: cpi, ppi, and index rate will be taken from the samples generated in the previous section.\n",
    "\n",
    "Provide the following parameters:\n",
    "- horizon_yrs : number of years to model\n",
    "- periods_per_year: granularity at which to model (4 = quarterly, 12 = monthly)\n",
    "- gross_income : annual rental income under full occupancy\n",
    "- net_income : rental income after maintenance expenses under full occupancy\n",
    "- vacancy_rate : percentage of rental income expected to miss out on due to vacancy\n",
    "- is_inflation_indexed: whether or not rental price updates each Q1 to reflect prior year inflation. So rental income is 'catching up' to inflation at the beginning of each year.\n",
    "- rrr_exit: expected ratio of net_income to asset_price for the overall market at time of exit\n",
    "- deflated_cap_gain: % above or below market rates that the property is expected to trade at.  Specific to the property.\n",
    "- financing.is_fixed_rate: whether or not the financing uses a fixed rate\n",
    "- financing.is_amortizing: whether or not the financing requires making payments towards the principal\n",
    "- financing.term: term of the loan in years\n",
    "- financing.fixed_rate: fixed rate paid on the loan. Only applies if financing.is_fixed_rate == True\n",
    "- financing.margin : margin over index rate that yields the applicable rate\n",
    "- financing.ltv_ratio: share of purchase price that is financed at t=0"
   ]
  },
  {
   "cell_type": "code",
   "execution_count": 6,
   "id": "8486d43f-d9fd-457d-9290-5df704bf7128",
   "metadata": {
    "tags": []
   },
   "outputs": [],
   "source": [
    "scenario = {\n",
    "    'horizon_yrs': 10\n",
    "    , 'periods_per_year': 4\n",
    "    , 'gross_income': 2000\n",
    "    , 'net_income': 1800\n",
    "    , 'vacancy_rate': .05\n",
    "    , 'is_inflation_indexed': True\n",
    "    , 'rrr_exit': .069\n",
    "    , 'deflated_cap_gain': .04\n",
    "    , 'financing': {\n",
    "        'is_fixed_rate': False\n",
    "        , 'is_amortizing': False\n",
    "        , 'term': 20\n",
    "        , 'fixed_rate': .03\n",
    "        , 'margin': 0\n",
    "        , 'ltv_ratio': .50\n",
    "    }\n",
    "}"
   ]
  },
  {
   "cell_type": "markdown",
   "id": "1a22e166-4dcf-417c-bb5c-e0b3a6323456",
   "metadata": {},
   "source": [
    "## Find Purchase Price that Yields Target IRR in Each Macro Scenario"
   ]
  },
  {
   "cell_type": "markdown",
   "id": "b5184919-b044-438c-8456-7ce729f73c83",
   "metadata": {},
   "source": [
    "The cell below will compute the corresponding purchase price given the scenario and target IRR, under each of the different rate environments sampled in the previous section. **Input below the target IRR.**"
   ]
  },
  {
   "cell_type": "code",
   "execution_count": 7,
   "id": "424ed906-ea6b-4383-a42a-3ac2a3f2771b",
   "metadata": {
    "tags": []
   },
   "outputs": [],
   "source": [
    "target_irr = 0.03 ## edit this value\n",
    "scored_purchase = run_all_scenarios(sampled_environments, scenario, get_irr, target_irr)\n",
    "## this cell may take ~20sec to run"
   ]
  },
  {
   "cell_type": "markdown",
   "id": "93fe138b-1d29-4069-9224-9f62355e0a69",
   "metadata": {},
   "source": [
    "### Plot Results"
   ]
  },
  {
   "cell_type": "code",
   "execution_count": 8,
   "id": "e681fada-e4d7-457f-9e98-ff7b222443d1",
   "metadata": {
    "tags": []
   },
   "outputs": [
    {
     "data": {
      "image/png": "[encoded data removed]",
      "text/plain": [
       "<Figure size 432x288 with 1 Axes>"
      ]
     },
     "metadata": {
      "needs_background": "light"
     },
     "output_type": "display_data"
    }
   ],
   "source": [
    "ax = sns.stripplot(data=scored_purchase, x = 'purchase_price', alpha = 0.5)\n",
    "ax.set_xlabel('Purchase Price')\n",
    "ax.set_title(f'Dist of Purchase Price for {100*target_irr:0.1f}% IRR')\n",
    "plt.show()"
   ]
  },
  {
   "cell_type": "code",
   "execution_count": 9,
   "id": "55d397c5-d4f4-46b0-9ef4-31663e3db0b2",
   "metadata": {
    "tags": []
   },
   "outputs": [
    {
     "data": {
      "image/png": "[encoded data removed]",
      "text/plain": [
       "<Figure size 432x288 with 1 Axes>"
      ]
     },
     "metadata": {
      "needs_background": "light"
     },
     "output_type": "display_data"
    }
   ],
   "source": [
    "ax = sns.kdeplot(data = scored_purchase['purchase_price'], cumulative = True)\n",
    "ax.set_title(f'CDF of Purchase Price for {100*target_irr:0.1f}% IRR')\n",
    "plt.show()"
   ]
  },
  {
   "cell_type": "markdown",
   "id": "c83a6ff7-a552-4c2e-bbe7-0b32021dbe4e",
   "metadata": {},
   "source": [
    "## Find IRR Given a Fixed Purchase Price in Each Scenario"
   ]
  },
  {
   "cell_type": "markdown",
   "id": "53875509-af2c-4c37-a399-05d071a364fd",
   "metadata": {},
   "source": [
    "Now let's run it the other way.  Given a fixed purchase price, what does IRR look like across scenarios. **Input below the purchase price to use for all scenarios.**"
   ]
  },
  {
   "cell_type": "code",
   "execution_count": 10,
   "id": "cff8d8ab-a80b-4c08-9ffe-835bdfb02ff6",
   "metadata": {
    "tags": []
   },
   "outputs": [],
   "source": [
    "purchase_price = 35000   ### edit this input\n",
    "scored_irr = run_all_get_performance(sampled_environments, scenario, purchase_price, get_irr, 'irr')"
   ]
  },
  {
   "cell_type": "markdown",
   "id": "2ed12750-06ef-4be0-bfa4-894573144c4e",
   "metadata": {},
   "source": [
    "### Plot Results"
   ]
  },
  {
   "cell_type": "code",
   "execution_count": 11,
   "id": "e3863914-314d-4c75-be78-16d4e2ee98c6",
   "metadata": {
    "tags": []
   },
   "outputs": [
    {
     "data": {
      "image/png": "[encoded data removed]",
      "text/plain": [
       "<Figure size 432x288 with 1 Axes>"
      ]
     },
     "metadata": {
      "needs_background": "light"
     },
     "output_type": "display_data"
    }
   ],
   "source": [
    "ax = sns.stripplot(data=scored_irr, x = 'irr', alpha = 0.5)\n",
    "ax.set_xlabel('IRR')\n",
    "ax.set_title(f'Dist of IRR for Purchase at ${purchase_price/1e3:0.1f}k')\n",
    "plt.show()"
   ]
  },
  {
   "cell_type": "code",
   "execution_count": 12,
   "id": "961b797e-e134-4174-855e-f5eba5553945",
   "metadata": {
    "tags": []
   },
   "outputs": [
    {
     "data": {
      "image/png": "[encoded data removed]",
      "text/plain": [
       "<Figure size 432x288 with 1 Axes>"
      ]
     },
     "metadata": {
      "needs_background": "light"
     },
     "output_type": "display_data"
    }
   ],
   "source": [
    "ax = sns.kdeplot(data = scored_irr['irr'], cumulative = True)\n",
    "ax.set_title(f'CDF of IRR for Purchase at ${purchase_price/1e3:0.1f}k')\n",
    "plt.show()"
   ]
  },
  {
   "cell_type": "markdown",
   "id": "797a0f00-de4e-4200-9795-eac11df0f061",
   "metadata": {},
   "source": [
    "# Export Data"
   ]
  },
  {
   "cell_type": "markdown",
   "id": "e92a93bb-8cb3-4944-b46c-764b2de701d5",
   "metadata": {},
   "source": [
    "The below code saves the sampled environments and scoring results to csv files.  A file containing the model run parameters is also included.  Specify a `run_tag` to help you identify the appropriate files once they are generated.\n",
    "\n",
    "You can use this output to anlayze the macro scenarios in more detail, keep record of runs, and find the sample_id for scenarios that yielded a particular performance value (can be used to view that specific macro environment)."
   ]
  },
  {
   "cell_type": "code",
   "execution_count": 13,
   "id": "f5a38351-ae1f-4a37-a6e6-d5ab86bcf7c9",
   "metadata": {
    "tags": []
   },
   "outputs": [],
   "source": [
    "run_tag = \"base\"  ### edit this variable\n",
    "\n",
    "sampled_environments.to_csv(f'environments_{run_tag}.csv', index=False)\n",
    "scored_purchase.to_csv(f'purchase_scores_{run_tag}.csv', index=False)\n",
    "scored_irr.to_csv(f'irr_scores_{run_tag}.csv', index=False)\n",
    "write_run_specs(scenario, dist_params, target_irr, purchase_price, run_tag)"
   ]
  },
  {
   "cell_type": "markdown",
   "id": "b78cbf47-82ae-4848-aa38-ddb90aeeb7ca",
   "metadata": {},
   "source": [
    "# Test a Custom Scenario"
   ]
  },
  {
   "cell_type": "markdown",
   "id": "0247c31a-673e-44e3-946e-e84d07e8bc78",
   "metadata": {},
   "source": [
    "Use this section to test out custom scenarios and validate results with the [GSheet](https://docs.google.com/spreadsheets/d/13XziGiwj-UFWNqdSCqTPcJe5aJ6gOw-fiAGTjl3nLSg/edit#gid=0) that makes the physics of the modeling a bit more transparent to the user. The logic implented here should be identical.\n"
   ]
  },
  {
   "cell_type": "markdown",
   "id": "17a90f5f-f634-4b6e-aa8b-24a7c72e8546",
   "metadata": {},
   "source": [
    "Specify a scenario below."
   ]
  },
  {
   "cell_type": "code",
   "execution_count": 14,
   "id": "84db864d-4628-4437-89c5-fd52e88a0bfd",
   "metadata": {
    "tags": []
   },
   "outputs": [],
   "source": [
    "# Note: this is just a play scenario for you to see what the corresponding purchase price is\n",
    "test_scenario = {\n",
    "    'horizon_yrs': 10\n",
    "    , 'periods_per_year': 4\n",
    "    , 'gross_income': 1200\n",
    "    , 'net_income': 1000\n",
    "    , 'vacancy_rate': .05\n",
    "    , 'is_inflation_indexed': True\n",
    "    , 'cpi_yoy': np.array([.03]*40)\n",
    "    , 'ppi_yoy': np.array([.03]*40)\n",
    "    , 'rrr_exit': .055\n",
    "    , 'deflated_cap_gain': 0\n",
    "    , 'financing': {\n",
    "        'is_fixed_rate': True\n",
    "        , 'is_amortizing': True\n",
    "        , 'term': 20\n",
    "        , 'fixed_rate': .03\n",
    "        , 'index_rate': np.linspace(.05,.09,40)\n",
    "        , 'margin': 0\n",
    "        , 'ltv_ratio': .50\n",
    "    }\n",
    "}\n",
    "        "
   ]
  },
  {
   "cell_type": "markdown",
   "id": "cbca66c2-e906-4422-a6b0-fd8ccfcadea8",
   "metadata": {},
   "source": [
    "Run the cell below to find the purchase price that yields the target IRR."
   ]
  },
  {
   "cell_type": "code",
   "execution_count": 15,
   "id": "52405c33-0e57-4cc0-8ad9-90cde073679f",
   "metadata": {
    "tags": []
   },
   "outputs": [
    {
     "data": {
      "text/plain": [
       "20175"
      ]
     },
     "execution_count": 15,
     "metadata": {},
     "output_type": "execute_result"
    }
   ],
   "source": [
    "find_best_offer(test_scenario, performance_func = get_irr, target = 0.05)"
   ]
  },
  {
   "cell_type": "markdown",
   "id": "86ec9d2e-1951-4e1e-aa60-445412f5a6b8",
   "metadata": {},
   "source": [
    "At it's core, the `find_best_offer` function is running a function called `get_irr` which first runs the physics of the scenario through `run_scenario` and then uses goal seek to find the IRR.  At the outer layer `find_best_offer` is running goal seek on `get_irr` to find the  purchase price that yields the target irr. Feel free to play with the `get_irr` function below.  Results should line up directly with the [GSheet](https://docs.google.com/spreadsheets/d/13XziGiwj-UFWNqdSCqTPcJe5aJ6gOw-fiAGTjl3nLSg/edit#gid=0)."
   ]
  },
  {
   "cell_type": "code",
   "execution_count": 16,
   "id": "39812b36-0a37-48bb-bf81-875a62bd6082",
   "metadata": {
    "tags": []
   },
   "outputs": [
    {
     "data": {
      "text/plain": [
       "0.0229"
      ]
     },
     "execution_count": 16,
     "metadata": {},
     "output_type": "execute_result"
    }
   ],
   "source": [
    "get_irr(purchase_price= 23000, scenario= test_scenario)"
   ]
  },
  {
   "cell_type": "markdown",
   "id": "cebc27b0-32ab-4ff0-ab38-b482bfce1107",
   "metadata": {},
   "source": [
    "# Download Packages\n",
    "You only need to run this if it is your first time working with this notebook on your machine."
   ]
  },
  {
   "cell_type": "code",
   "execution_count": 17,
   "id": "f2af79c3-b5f7-4ecf-9789-a96b8b9d1e73",
   "metadata": {
    "tags": []
   },
   "outputs": [
    {
     "name": "stdout",
     "output_type": "stream",
     "text": [
      "Requirement already satisfied: matplotlib==3.5.2 in /home/estebanpimentel/miniconda3/lib/python3.9/site-packages (from -r requirements.txt (line 1)) (3.5.2)\n",
      "Requirement already satisfied: seaborn==0.11.2 in /home/estebanpimentel/miniconda3/lib/python3.9/site-packages (from -r requirements.txt (line 2)) (0.11.2)\n",
      "Requirement already satisfied: numpy==1.22.1 in /home/estebanpimentel/miniconda3/lib/python3.9/site-packages (from -r requirements.txt (line 3)) (1.22.1)\n",
      "Requirement already satisfied: pandas==1.4.2 in /home/estebanpimentel/miniconda3/lib/python3.9/site-packages (from -r requirements.txt (line 4)) (1.4.2)\n",
      "Requirement already satisfied: scipy==1.8.0 in /home/estebanpimentel/miniconda3/lib/python3.9/site-packages (from -r requirements.txt (line 5)) (1.8.0)\n",
      "Requirement already satisfied: ipywidgets==8.0.4 in /home/estebanpimentel/miniconda3/lib/python3.9/site-packages (from -r requirements.txt (line 6)) (8.0.4)\n",
      "Requirement already satisfied: pyparsing>=2.2.1 in /home/estebanpimentel/miniconda3/lib/python3.9/site-packages (from matplotlib==3.5.2->-r requirements.txt (line 1)) (2.4.7)\n",
      "Requirement already satisfied: pillow>=6.2.0 in /home/estebanpimentel/miniconda3/lib/python3.9/site-packages (from matplotlib==3.5.2->-r requirements.txt (line 1)) (9.0.1)\n",
      "Requirement already satisfied: python-dateutil>=2.7 in /home/estebanpimentel/miniconda3/lib/python3.9/site-packages (from matplotlib==3.5.2->-r requirements.txt (line 1)) (2.8.2)\n",
      "Requirement already satisfied: packaging>=20.0 in /home/estebanpimentel/miniconda3/lib/python3.9/site-packages (from matplotlib==3.5.2->-r requirements.txt (line 1)) (23.0)\n",
      "Requirement already satisfied: fonttools>=4.22.0 in /home/estebanpimentel/miniconda3/lib/python3.9/site-packages (from matplotlib==3.5.2->-r requirements.txt (line 1)) (4.33.3)\n",
      "Requirement already satisfied: cycler>=0.10 in /home/estebanpimentel/miniconda3/lib/python3.9/site-packages (from matplotlib==3.5.2->-r requirements.txt (line 1)) (0.11.0)\n",
      "Requirement already satisfied: kiwisolver>=1.0.1 in /home/estebanpimentel/miniconda3/lib/python3.9/site-packages (from matplotlib==3.5.2->-r requirements.txt (line 1)) (1.4.2)\n",
      "Requirement already satisfied: pytz>=2020.1 in /home/estebanpimentel/miniconda3/lib/python3.9/site-packages (from pandas==1.4.2->-r requirements.txt (line 4)) (2022.1)\n",
      "Requirement already satisfied: ipython>=6.1.0 in /home/estebanpimentel/miniconda3/lib/python3.9/site-packages (from ipywidgets==8.0.4->-r requirements.txt (line 6)) (7.28.0)\n",
      "Requirement already satisfied: widgetsnbextension~=4.0 in /home/estebanpimentel/miniconda3/lib/python3.9/site-packages (from ipywidgets==8.0.4->-r requirements.txt (line 6)) (4.0.5)\n",
      "Requirement already satisfied: ipykernel>=4.5.1 in /home/estebanpimentel/miniconda3/lib/python3.9/site-packages (from ipywidgets==8.0.4->-r requirements.txt (line 6)) (6.4.1)\n",
      "Requirement already satisfied: traitlets>=4.3.1 in /home/estebanpimentel/miniconda3/lib/python3.9/site-packages (from ipywidgets==8.0.4->-r requirements.txt (line 6)) (5.9.0)\n",
      "Requirement already satisfied: jupyterlab-widgets~=3.0 in /home/estebanpimentel/miniconda3/lib/python3.9/site-packages (from ipywidgets==8.0.4->-r requirements.txt (line 6)) (3.0.5)\n",
      "Requirement already satisfied: matplotlib-inline<0.2.0,>=0.1.0 in /home/estebanpimentel/miniconda3/lib/python3.9/site-packages (from ipykernel>=4.5.1->ipywidgets==8.0.4->-r requirements.txt (line 6)) (0.1.3)\n",
      "Requirement already satisfied: ipython-genutils in /home/estebanpimentel/miniconda3/lib/python3.9/site-packages (from ipykernel>=4.5.1->ipywidgets==8.0.4->-r requirements.txt (line 6)) (0.2.0)\n",
      "Requirement already satisfied: tornado<7.0,>=4.2 in /home/estebanpimentel/miniconda3/lib/python3.9/site-packages (from ipykernel>=4.5.1->ipywidgets==8.0.4->-r requirements.txt (line 6)) (6.2)\n",
      "Requirement already satisfied: debugpy<2.0,>=1.0.0 in /home/estebanpimentel/miniconda3/lib/python3.9/site-packages (from ipykernel>=4.5.1->ipywidgets==8.0.4->-r requirements.txt (line 6)) (1.5.0)\n",
      "Requirement already satisfied: jupyter-client<8.0 in /home/estebanpimentel/miniconda3/lib/python3.9/site-packages (from ipykernel>=4.5.1->ipywidgets==8.0.4->-r requirements.txt (line 6)) (7.4.9)\n",
      "Requirement already satisfied: pickleshare in /home/estebanpimentel/miniconda3/lib/python3.9/site-packages (from ipython>=6.1.0->ipywidgets==8.0.4->-r requirements.txt (line 6)) (0.7.5)\n",
      "Requirement already satisfied: jedi>=0.16 in /home/estebanpimentel/miniconda3/lib/python3.9/site-packages (from ipython>=6.1.0->ipywidgets==8.0.4->-r requirements.txt (line 6)) (0.18.0)\n",
      "Requirement already satisfied: pexpect>4.3 in /home/estebanpimentel/miniconda3/lib/python3.9/site-packages (from ipython>=6.1.0->ipywidgets==8.0.4->-r requirements.txt (line 6)) (4.8.0)\n",
      "Requirement already satisfied: backcall in /home/estebanpimentel/miniconda3/lib/python3.9/site-packages (from ipython>=6.1.0->ipywidgets==8.0.4->-r requirements.txt (line 6)) (0.2.0)\n",
      "Requirement already satisfied: pygments in /home/estebanpimentel/miniconda3/lib/python3.9/site-packages (from ipython>=6.1.0->ipywidgets==8.0.4->-r requirements.txt (line 6)) (2.10.0)\n",
      "Requirement already satisfied: prompt-toolkit!=3.0.0,!=3.0.1,<3.1.0,>=2.0.0 in /home/estebanpimentel/miniconda3/lib/python3.9/site-packages (from ipython>=6.1.0->ipywidgets==8.0.4->-r requirements.txt (line 6)) (3.0.20)\n",
      "Requirement already satisfied: setuptools>=18.5 in /home/estebanpimentel/miniconda3/lib/python3.9/site-packages (from ipython>=6.1.0->ipywidgets==8.0.4->-r requirements.txt (line 6)) (52.0.0.post20210125)\n",
      "Requirement already satisfied: decorator in /home/estebanpimentel/miniconda3/lib/python3.9/site-packages (from ipython>=6.1.0->ipywidgets==8.0.4->-r requirements.txt (line 6)) (5.1.0)\n",
      "Requirement already satisfied: parso<0.9.0,>=0.8.0 in /home/estebanpimentel/miniconda3/lib/python3.9/site-packages (from jedi>=0.16->ipython>=6.1.0->ipywidgets==8.0.4->-r requirements.txt (line 6)) (0.8.2)\n",
      "Requirement already satisfied: pyzmq>=23.0 in /home/estebanpimentel/miniconda3/lib/python3.9/site-packages (from jupyter-client<8.0->ipykernel>=4.5.1->ipywidgets==8.0.4->-r requirements.txt (line 6)) (25.0.0)\n",
      "Requirement already satisfied: jupyter-core>=4.9.2 in /home/estebanpimentel/miniconda3/lib/python3.9/site-packages (from jupyter-client<8.0->ipykernel>=4.5.1->ipywidgets==8.0.4->-r requirements.txt (line 6)) (5.2.0)\n",
      "Requirement already satisfied: nest-asyncio>=1.5.4 in /home/estebanpimentel/miniconda3/lib/python3.9/site-packages (from jupyter-client<8.0->ipykernel>=4.5.1->ipywidgets==8.0.4->-r requirements.txt (line 6)) (1.5.6)\n",
      "Requirement already satisfied: entrypoints in /home/estebanpimentel/miniconda3/lib/python3.9/site-packages (from jupyter-client<8.0->ipykernel>=4.5.1->ipywidgets==8.0.4->-r requirements.txt (line 6)) (0.3)\n",
      "Requirement already satisfied: platformdirs>=2.5 in /home/estebanpimentel/miniconda3/lib/python3.9/site-packages (from jupyter-core>=4.9.2->jupyter-client<8.0->ipykernel>=4.5.1->ipywidgets==8.0.4->-r requirements.txt (line 6)) (3.0.0)\n",
      "Requirement already satisfied: ptyprocess>=0.5 in /home/estebanpimentel/miniconda3/lib/python3.9/site-packages (from pexpect>4.3->ipython>=6.1.0->ipywidgets==8.0.4->-r requirements.txt (line 6)) (0.7.0)\n",
      "Requirement already satisfied: wcwidth in /home/estebanpimentel/miniconda3/lib/python3.9/site-packages (from prompt-toolkit!=3.0.0,!=3.0.1,<3.1.0,>=2.0.0->ipython>=6.1.0->ipywidgets==8.0.4->-r requirements.txt (line 6)) (0.2.5)\n",
      "Requirement already satisfied: six>=1.5 in /home/estebanpimentel/miniconda3/lib/python3.9/site-packages (from python-dateutil>=2.7->matplotlib==3.5.2->-r requirements.txt (line 1)) (1.16.0)\n"
     ]
    }
   ],
   "source": [
    "import sys\n",
    "!{sys.executable} -m pip install -r requirements.txt"
   ]
  },
  {
   "cell_type": "code",
   "execution_count": null,
   "id": "aaed9e4c-c728-4899-8f22-dbc9843826df",
   "metadata": {},
   "outputs": [],
   "source": []
  }
 ],
 "metadata": {
  "kernelspec": {
   "display_name": "Python 3 (ipykernel)",
   "language": "python",
   "name": "python3"
  },
  "language_info": {
   "codemirror_mode": {
    "name": "ipython",
    "version": 3
   },
   "file_extension": ".py",
   "mimetype": "text/x-python",
   "name": "python",
   "nbconvert_exporter": "python",
   "pygments_lexer": "ipython3",
   "version": "3.9.9"
  }
 },
 "nbformat": 4,
 "nbformat_minor": 5
}
